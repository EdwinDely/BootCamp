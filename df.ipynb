{
 "cells": [
  {
   "cell_type": "code",
   "execution_count": 2,
   "metadata": {},
   "outputs": [],
   "source": [
    "import pandas as pd\n",
    "import numpy as np"
   ]
  },
  {
   "cell_type": "code",
   "execution_count": 3,
   "metadata": {},
   "outputs": [
    {
     "name": "stdout",
     "output_type": "stream",
     "text": [
      "Series([], dtype: float64)\n"
     ]
    }
   ],
   "source": [
    "s = pd.Series()\n",
    "print(s)"
   ]
  },
  {
   "cell_type": "code",
   "execution_count": 4,
   "metadata": {},
   "outputs": [
    {
     "name": "stdout",
     "output_type": "stream",
     "text": [
      "   fips  adult_pop  female_pop  male_pop  median_age  population  pct_poverty  \\\n",
      "0  1001    41890.0     28422.0   26994.0        38.6     55416.0         13.5   \n",
      "1  1003   163233.0    107322.0  101241.0        42.9    208563.0         11.7   \n",
      "2  1005    20477.0     12186.0   13779.0        40.1     25965.0         29.9   \n",
      "3  1007    17944.0     10498.0   12145.0        39.6     22643.0         20.1   \n",
      "4  1009    44322.0     29206.0   28498.0        41.1     57704.0         14.1   \n",
      "5  1011     8155.0      4762.0    5600.0        39.4     10362.0         32.6   \n",
      "6  1013    15284.0     10676.0    9322.0        40.6     19998.0         24.8   \n",
      "7  1015    89591.0     59473.0   55138.0        39.8    114611.0         17.1   \n",
      "8  1017    26670.0     17600.0   16243.0        42.6     33843.0         19.9   \n",
      "9  1019    20625.0     12956.0   12769.0        46.2     25725.0         16.8   \n",
      "\n",
      "   median_income  pct_highschool  pct_unemployed  \n",
      "0        54487.0            87.6             3.4  \n",
      "1        56460.0            90.0             3.7  \n",
      "2        32884.0            73.8             6.2  \n",
      "3        43079.0            80.7             3.5  \n",
      "4        47213.0            80.0             3.0  \n",
      "5        34278.0            66.6             7.5  \n",
      "6        35409.0            81.1             5.3  \n",
      "7        41778.0            82.3             6.7  \n",
      "8        39530.0            80.3             4.1  \n",
      "9        41456.0            81.3             3.0  \n"
     ]
    }
   ],
   "source": [
    "df = pd.read_csv(\"county_demographics_2016.csv\")\n",
    "print(df[:10])"
   ]
  },
  {
   "cell_type": "code",
   "execution_count": 5,
   "metadata": {},
   "outputs": [
    {
     "name": "stdout",
     "output_type": "stream",
     "text": [
      "0    54487.0\n",
      "1    56460.0\n",
      "2    32884.0\n",
      "3    43079.0\n",
      "4    47213.0\n",
      "5    34278.0\n",
      "6    35409.0\n",
      "7    41778.0\n",
      "8    39530.0\n",
      "9    41456.0\n",
      "Name: median_income, dtype: float64\n"
     ]
    }
   ],
   "source": [
    "med_inc = df['median_income']\n",
    "print(med_inc[:10])"
   ]
  },
  {
   "cell_type": "code",
   "execution_count": 6,
   "metadata": {},
   "outputs": [
    {
     "name": "stdout",
     "output_type": "stream",
     "text": [
      "               fips     adult_pop    female_pop      male_pop   median_age  \\\n",
      "count   3145.000000  3.141000e+03  3.141000e+03  3.141000e+03  3141.000000   \n",
      "mean   30386.380286  7.942708e+04  5.222692e+04  5.064461e+04    41.325724   \n",
      "std    15170.934016  2.545942e+05  1.681888e+05  1.622152e+05     5.374697   \n",
      "min     1001.000000  6.800000e+01  4.700000e+01  4.100000e+01    22.700000   \n",
      "25%    18177.000000  8.442000e+03  5.455000e+03  5.498000e+03    38.100000   \n",
      "50%    29177.000000  2.015500e+04  1.285300e+04  1.279600e+04    41.300000   \n",
      "75%    45083.000000  5.255600e+04  3.424500e+04  3.370500e+04    44.500000   \n",
      "max    56045.000000  7.884802e+06  5.143946e+06  4.993969e+06    67.100000   \n",
      "\n",
      "         population  pct_poverty  median_income  pct_highschool  \\\n",
      "count  3.141000e+03  3140.000000    3140.000000     3141.000000   \n",
      "mean   1.028715e+05    15.876592   49526.948726       85.813945   \n",
      "std    3.303674e+05     6.279284   12886.512914        6.541752   \n",
      "min    8.800000e+01     3.400000   22045.000000       48.500000   \n",
      "25%    1.098600e+04    11.400000   41072.750000       81.700000   \n",
      "50%    2.577500e+04    14.900000   47590.500000       87.300000   \n",
      "75%    6.756000e+04    19.100000   55309.000000       90.700000   \n",
      "max    1.013792e+07    48.600000  134609.000000       98.700000   \n",
      "\n",
      "       pct_unemployed  \n",
      "count     3141.000000  \n",
      "mean         4.025533  \n",
      "std          1.681875  \n",
      "min          0.000000  \n",
      "25%          3.000000  \n",
      "50%          4.000000  \n",
      "75%          4.900000  \n",
      "max         18.800000  \n",
      "               fips     adult_pop    female_pop      male_pop   median_age  \\\n",
      "count   3145.000000  3.141000e+03  3.141000e+03  3.141000e+03  3141.000000   \n",
      "mean   30386.380286  7.942708e+04  5.222692e+04  5.064461e+04    41.325724   \n",
      "std    15170.934016  2.545942e+05  1.681888e+05  1.622152e+05     5.374697   \n",
      "min     1001.000000  6.800000e+01  4.700000e+01  4.100000e+01    22.700000   \n",
      "25%    18177.000000  8.442000e+03  5.455000e+03  5.498000e+03    38.100000   \n",
      "50%    29177.000000  2.015500e+04  1.285300e+04  1.279600e+04    41.300000   \n",
      "75%    45083.000000  5.255600e+04  3.424500e+04  3.370500e+04    44.500000   \n",
      "max    56045.000000  7.884802e+06  5.143946e+06  4.993969e+06    67.100000   \n",
      "\n",
      "         population  pct_poverty  median_income  pct_highschool  \\\n",
      "count  3.141000e+03  3140.000000    3140.000000     3141.000000   \n",
      "mean   1.028715e+05    15.876592   49526.948726       85.813945   \n",
      "std    3.303674e+05     6.279284   12886.512914        6.541752   \n",
      "min    8.800000e+01     3.400000   22045.000000       48.500000   \n",
      "25%    1.098600e+04    11.400000   41072.750000       81.700000   \n",
      "50%    2.577500e+04    14.900000   47590.500000       87.300000   \n",
      "75%    6.756000e+04    19.100000   55309.000000       90.700000   \n",
      "max    1.013792e+07    48.600000  134609.000000       98.700000   \n",
      "\n",
      "       pct_unemployed  \n",
      "count     3141.000000  \n",
      "mean         4.025533  \n",
      "std          1.681875  \n",
      "min          0.000000  \n",
      "25%          3.000000  \n",
      "50%          4.000000  \n",
      "75%          4.900000  \n",
      "max         18.800000  \n"
     ]
    }
   ],
   "source": [
    "print(df.describe())\n",
    "print(pd.DataFrame.describe(df))"
   ]
  },
  {
   "cell_type": "code",
   "execution_count": 14,
   "metadata": {},
   "outputs": [
    {
     "name": "stdout",
     "output_type": "stream",
     "text": [
      "N = 3145\n",
      "0    False\n",
      "1    False\n",
      "2    False\n",
      "3    False\n",
      "4    False\n",
      "5    False\n",
      "6    False\n",
      "7    False\n",
      "8    False\n",
      "9    False\n",
      "Name: median_income, dtype: bool\n",
      "5\n"
     ]
    }
   ],
   "source": [
    "print(\"N =\", len(med_inc))\n",
    "value = pd.isnull(med_inc)\n",
    "print(value[:10])\n",
    "print(value.sum())"
   ]
  },
  {
   "cell_type": "code",
   "execution_count": 20,
   "metadata": {},
   "outputs": [
    {
     "name": "stdout",
     "output_type": "stream",
     "text": [
      "     Player_ID       LastName  FirstName  Jersey_Num Position Height  Weight  \\\n",
      "0        10138        Abrines       Alex         8.0       SG   6'6\"   190.0   \n",
      "1         9466            Acy     Quincy        13.0       PF   6'7\"   240.0   \n",
      "2         9390          Adams     Steven        12.0        C   7'0\"   255.0   \n",
      "3        13742        Adebayo        Bam        13.0        C  6'10\"   255.0   \n",
      "4         9375        Afflalo      Arron         4.0       SG   6'5\"   210.0   \n",
      "5         9357         Ajinca     Alexis        42.0        C   7'2\"   248.0   \n",
      "6         9272        Aldrich       Cole        45.0        C  6'11\"   253.0   \n",
      "7         9480       Aldridge   LaMarcus        12.0       PF  6'11\"   260.0   \n",
      "8        13749          Allen    Jarrett        31.0        C  6'11\"   234.0   \n",
      "9        13776          Allen     Kadeem        45.0       SG   6'3\"   200.0   \n",
      "10        9299          Allen       Tony        24.0       SF   6'4\"   213.0   \n",
      "11        9452          Aminu  Al-Farouq         8.0       PF   6'9\"   220.0   \n",
      "12        9527       Anderson       Alan        26.0       SG   6'6\"   220.0   \n",
      "13        9178       Anderson     Justin         1.0       SF   6'6\"   230.0   \n",
      "14        9475       Anderson       Kyle         1.0       SF   6'9\"   230.0   \n",
      "15        9353       Anderson       Ryan        33.0       PF  6'10\"   240.0   \n",
      "16       13796       Anigbogu        Ike        13.0        C  6'10\"   262.0   \n",
      "17        9325  Antetokounmpo    Giannis        34.0       SF  6'11\"   222.0   \n",
      "18        9369        Anthony    Carmelo         7.0       PF   6'8\"   240.0   \n",
      "19       13750        Anunoby         OG         3.0       SF   6'8\"   235.0   \n",
      "20       11884    Arcidiacono       Ryan        10.0        G   6'3\"   195.0   \n",
      "21        9235          Ariza     Trevor         1.0       SF   6'8\"   215.0   \n",
      "22        9198         Arthur    Darrell         0.0       PF   6'9\"   235.0   \n",
      "23       13805          Artis     Jamiel         NaN       SG   6'7\"   213.0   \n",
      "24        9358           Asik       Omer         3.0        C   7'0\"   255.0   \n",
      "25       13941       Atkinson      Kenny         NaN        C    NaN     NaN   \n",
      "26        9190       Augustin       D.J.        14.0       PG   6'0\"   183.0   \n",
      "27        9360        Babbitt       Luke         8.0       PF   6'9\"   225.0   \n",
      "28       13788          Bacon     Dwayne         7.0       SF   6'7\"   221.0   \n",
      "29       10102          Baker        Ron        31.0       PG   6'4\"   220.0   \n",
      "..         ...            ...        ...         ...      ...    ...     ...   \n",
      "586       9441       Williams       Alan        15.0       PF   6'8\"   265.0   \n",
      "587      11973       Williams       C.J.         9.0       SG   6'5\"   230.0   \n",
      "588       9377       Williams    Derrick        22.0       SF   6'8\"   240.0   \n",
      "589       9557       Williams    Elliott         NaN       SG    NaN     NaN   \n",
      "590       9287       Williams        Lou        23.0       SG   6'1\"   175.0   \n",
      "591       9134       Williams     Marvin         2.0       PF   6'9\"   237.0   \n",
      "592      11414       Williams       Troy         5.0       SF   6'7\"   218.0   \n",
      "593      13801   Williams Jr.       Matt        12.0       SG    NaN     NaN   \n",
      "594      13745         Wilson      D. J.         5.0       PF  6'10\"   236.0   \n",
      "595      13859         Wilson      Jamil        13.0       PF    NaN     NaN   \n",
      "596      10148        Wiltjer       Kyle        30.0        F  6'10\"   240.0   \n",
      "597       9313        Winslow    Justise        20.0       SF   6'7\"   225.0   \n",
      "598       9516         Withey       Jeff        17.0        C    NaN     NaN   \n",
      "599      11897        Wolters       Nate         NaN       PG    NaN     NaN   \n",
      "600       9427           Wood  Christian        35.0       PF  6'11\"   220.0   \n",
      "601       9304         Wright    Brandan        34.0        C  6'10\"   235.0   \n",
      "602       9495         Wright      Delon        55.0       PG   6'5\"   190.0   \n",
      "603      13778       Yabusele  Guerschon        30.0       PF   6'8\"   260.0   \n",
      "604       9103          Young      James         6.0       SG   6'6\"   215.0   \n",
      "605       9260          Young        Joe         3.0       PG   6'2\"   185.0   \n",
      "606      13808          Young    Michael         4.0        F    NaN     NaN   \n",
      "607       9280          Young       Nick         6.0       SG   6'7\"   210.0   \n",
      "608       9119          Young   Thaddeus        21.0       PF   6'8\"   230.0   \n",
      "609       9130         Zeller       Cody        40.0        C   7'0\"   240.0   \n",
      "610       9099         Zeller      Tyler        44.0        C   7'0\"   250.0   \n",
      "611      13767           Zhou         Qi         9.0       PF   7'1\"   210.0   \n",
      "612      10163      Zimmerman    Stephen        33.0        C   7'0\"   240.0   \n",
      "613      10158         Zipser       Paul        16.0       SF   6'8\"   226.0   \n",
      "614      13779          Zizic       Ante        41.0        C  6'11\"   250.0   \n",
      "615      10169          Zubac      Ivica        40.0        C   7'1\"   240.0   \n",
      "\n",
      "    Birth_Date  Age          Birth_City   ...   Team_Abbr.      Team_City  \\\n",
      "0       8/1/93   24   Palma de Mallorca   ...          OKL  Oklahoma City   \n",
      "1      10/6/90   27           Tyler, TX   ...          BRO       Brooklyn   \n",
      "2      7/20/93   24             Rotorua   ...          OKL  Oklahoma City   \n",
      "3      7/18/97   20          Newark, NJ   ...          MIA          Miami   \n",
      "4     10/15/85   32     Los Angeles, CA   ...          ORL        Orlando   \n",
      "5       5/6/88   30       Saint-Etienne   ...          NOP    New Orleans   \n",
      "6     10/31/88   29      Burnsville, MN   ...          MIN      Minnesota   \n",
      "7      7/19/85   32          Dallas, TX   ...          SAS    San Antonio   \n",
      "8      4/21/98   20          Austin, TX   ...          BRO       Brooklyn   \n",
      "9      1/15/93   25      Wilmington, NC   ...          BOS         Boston   \n",
      "10     1/10/82   36         Chicago, IL   ...          CHI        Chicago   \n",
      "11     9/21/90   27         Atlanta, GA   ...          POR       Portland   \n",
      "12    10/16/82   35     Minneapolis, MN   ...          LAC    Los Angeles   \n",
      "13    11/19/93   24        Montross, VA   ...          PHI   Philadelphia   \n",
      "14     9/20/93   24        New York, NY   ...          SAS    San Antonio   \n",
      "15      5/6/88   30      Sacramento, CA   ...          HOU        Houston   \n",
      "16    10/16/98   19       San Diego, CA   ...          IND        Indiana   \n",
      "17     12/6/94   23              Athens   ...          MIL      Milwaukee   \n",
      "18     5/29/84   34        New York, NY   ...          OKL  Oklahoma City   \n",
      "19     7/17/97   20              London   ...          TOR        Toronto   \n",
      "20     3/26/94   24       Langhorne, PA   ...          CHI        Chicago   \n",
      "21     6/30/85   32           Miami, FL   ...          HOU        Houston   \n",
      "22     3/25/88   30          Dallas, TX   ...          DEN         Denver   \n",
      "23     1/12/93   25       Baltimore, MD   ...          ORL        Orlando   \n",
      "24      7/3/86   31               Bursa   ...          CHI        Chicago   \n",
      "25     1/25/18    0                 NaN   ...          BRO       Brooklyn   \n",
      "26    11/10/87   30     New Orleans, LA   ...          ORL        Orlando   \n",
      "27     6/19/89   28      Cincinnati, OH   ...          MIA          Miami   \n",
      "28     8/30/95   22        Lakeland, FL   ...          CHA      Charlotte   \n",
      "29     3/30/93   25            Hays, KS   ...          NYK       New York   \n",
      "..         ...  ...                 ...   ...          ...            ...   \n",
      "586    1/28/93   25         Phoenix, AZ   ...          PHX        Phoenix   \n",
      "587     2/6/90   28    Fayetteville, NC   ...          LAC    Los Angeles   \n",
      "588    5/25/91   27      Bellflower, CA   ...          LAL    Los Angeles   \n",
      "589    1/26/18    0         Memphis, TN   ...          OKL  Oklahoma City   \n",
      "590   10/27/86   31         Memphis, TN   ...          LAC    Los Angeles   \n",
      "591    6/19/86   31       Bremerton, WA   ...          CHA      Charlotte   \n",
      "592   12/29/94   23         Hampton, VA   ...          NYK       New York   \n",
      "593   10/14/93   24         Orlando, FL   ...          MIA          Miami   \n",
      "594    2/19/96   22      Mt. Shasta, CA   ...          MIL      Milwaukee   \n",
      "595   11/21/90   27       Milwaukee, WI   ...          LAC    Los Angeles   \n",
      "596   10/20/92   25        Portland, OR   ...          HOU        Houston   \n",
      "597    3/26/96   22         Houston, TX   ...          MIA          Miami   \n",
      "598     3/7/90   28       San Diego, CA   ...          DAL         Dallas   \n",
      "599    5/15/91   27       St. Cloud, MN   ...          UTA           Utah   \n",
      "600    9/27/95   22      Long Beach, CA   ...          CHA      Charlotte   \n",
      "601    10/4/87   30       Nashville, TN   ...          HOU        Houston   \n",
      "602    4/26/92   26     Los Angeles, CA   ...          TOR        Toronto   \n",
      "603   12/17/95   22               Dreux   ...          BOS         Boston   \n",
      "604    8/16/95   22           Flint, MI   ...          PHI   Philadelphia   \n",
      "605    6/27/92   25         Houston, TX   ...          IND        Indiana   \n",
      "606     9/5/94   23      Pittsburgh, PA   ...          WAS     Washington   \n",
      "607     6/1/85   33     Los Angeles, CA   ...          GSW   Golden State   \n",
      "608    6/21/88   29     New Orleans, LA   ...          IND        Indiana   \n",
      "609    10/5/92   25      Washington, IN   ...          CHA      Charlotte   \n",
      "610    1/16/90   28         Visalia, CA   ...          MIL      Milwaukee   \n",
      "611    1/16/96   22                 NaN   ...          HOU        Houston   \n",
      "612     9/9/96   21  Hendersonville, TN   ...          LAL    Los Angeles   \n",
      "613    2/18/94   24          Heidelberg   ...          CHI        Chicago   \n",
      "614     1/3/97   21               Split   ...          CLE      Cleveland   \n",
      "615    3/18/97   21              Mostar   ...          LAL    Los Angeles   \n",
      "\n",
      "         Team_Name GamesPlayed Fg2PtAtt Fg2PtMade  Fg3PtAtt  Fg3PtMade  FtAtt  \\\n",
      "0          Thunder          75       70        31       221         84     46   \n",
      "1             Nets          70       73        28       292        102     60   \n",
      "2          Thunder          76      710       448         2          0    287   \n",
      "3             Heat          69      333       174         7          0    179   \n",
      "4            Magic          52       92        38        70         27     26   \n",
      "5         Pelicans           0        0         0         0          0      0   \n",
      "6     Timberwolves          21       15         5         0          0      6   \n",
      "7            Spurs          75     1255       660        92         27    399   \n",
      "8             Nets          72      382       229        15          5    147   \n",
      "9          Celtics          18       11         6        11          0      9   \n",
      "10           Bulls          22       79        40        12          4     21   \n",
      "11   Trail Blazers          69      243       105       339        125     80   \n",
      "12        Clippers           0        0         0         0          0      0   \n",
      "13           76ers          38       99        53       103         34     38   \n",
      "14           Spurs          74      381       212        57         19    146   \n",
      "15         Rockets          66      141        76       339        131     93   \n",
      "16          Pacers          11        9         4         0          0      6   \n",
      "17           Bucks          75     1262       699       140         43    641   \n",
      "18         Thunder          78      695       303       474        169    193   \n",
      "19         Raptors          74      149        90       197         73     62   \n",
      "20           Bulls          24       10         8        31          9      6   \n",
      "21         Rockets          67      189        98       462        170     89   \n",
      "22         Nuggets          19       24        14        23          8      3   \n",
      "23           Magic          15       50        23        29          8     12   \n",
      "24           Bulls          18       22         9         0          0     13   \n",
      "25            Nets           1        0         0         0          0      0   \n",
      "26           Magic          75      267       130       272        114    189   \n",
      "27            Heat          50       59        31       156         60     22   \n",
      "28         Hornets          53      150        61        43         11     25   \n",
      "29          Knicks          29       26         9        33         11     27   \n",
      "..             ...         ...      ...       ...       ...        ...    ...   \n",
      "586           Suns           5       18         7         0          0      9   \n",
      "587       Clippers          38      119        65        78         22     16   \n",
      "588         Lakers           2        2         1         2          0      0   \n",
      "589        Thunder           0        0         0         0          0      0   \n",
      "590       Clippers          79      819       396       518        186    491   \n",
      "591        Hornets          78      257       132       306        126    123   \n",
      "592         Knicks          21       71        40        38         11     30   \n",
      "593           Heat           3        1         1         5          1      0   \n",
      "594          Bucks          22       11         7         5          2      2   \n",
      "595       Clippers          15       18        11        63         27      4   \n",
      "596        Rockets           0        0         0         0          0      0   \n",
      "597           Heat          68      357       158       130         49    104   \n",
      "598      Mavericks          10        6         4        10          2      2   \n",
      "599           Jazz           5        6         1         0          0      0   \n",
      "600        Hornets           0        0         0         0          0      0   \n",
      "601        Rockets          28      102        59         0          0     33   \n",
      "602        Raptors          69      278       145       154         56    119   \n",
      "603        Celtics          33       24        14        37         12     22   \n",
      "604          76ers           6        4         2        10          3      6   \n",
      "605         Pacers          53      120        55        66         25     29   \n",
      "606        Wizards           0        0         0         0          0      0   \n",
      "607       Warriors          80      162        78       326        123     65   \n",
      "608         Pacers          81      684       363       182         58     92   \n",
      "609        Hornets          33      151        83         3          2     85   \n",
      "610          Bucks          66      306       177        28         10     79   \n",
      "611        Rockets          18       13         4        19          2     12   \n",
      "612         Lakers           0        0         0         0          0      0   \n",
      "613          Bulls          54      124        44       110         37     26   \n",
      "614      Cavaliers          32       67        49         0          0     29   \n",
      "615         Lakers          43      121        61         1          0     51   \n",
      "\n",
      "     FtMade  \n",
      "0        39  \n",
      "1        49  \n",
      "2       160  \n",
      "3       129  \n",
      "4        22  \n",
      "5         0  \n",
      "6         2  \n",
      "7       334  \n",
      "8       114  \n",
      "9         7  \n",
      "10       11  \n",
      "11       59  \n",
      "12        0  \n",
      "13       28  \n",
      "14      104  \n",
      "15       72  \n",
      "16        5  \n",
      "17      487  \n",
      "18      148  \n",
      "19       39  \n",
      "20        5  \n",
      "21       76  \n",
      "22        2  \n",
      "23        7  \n",
      "24        4  \n",
      "25        0  \n",
      "26      164  \n",
      "27       17  \n",
      "28       20  \n",
      "29       20  \n",
      "..      ...  \n",
      "586       6  \n",
      "587      13  \n",
      "588       0  \n",
      "589       0  \n",
      "590     432  \n",
      "591     102  \n",
      "592      20  \n",
      "593       0  \n",
      "594       1  \n",
      "595       2  \n",
      "596       0  \n",
      "597      66  \n",
      "598       1  \n",
      "599       0  \n",
      "600       0  \n",
      "601      21  \n",
      "602      99  \n",
      "603      15  \n",
      "604       4  \n",
      "605      22  \n",
      "606       0  \n",
      "607      56  \n",
      "608      55  \n",
      "609      61  \n",
      "610      57  \n",
      "611       8  \n",
      "612       0  \n",
      "613      19  \n",
      "614      21  \n",
      "615      39  \n",
      "\n",
      "[616 rows x 23 columns]\n"
     ]
    }
   ],
   "source": [
    "df = pd.read_csv(\"nba_player_stats_2017_18.csv\")\n",
    "print(df)"
   ]
  },
  {
   "cell_type": "code",
   "execution_count": 32,
   "metadata": {},
   "outputs": [
    {
     "name": "stdout",
     "output_type": "stream",
     "text": [
      "          Player_ID  Jersey_Num      Weight         Age     Team_ID  \\\n",
      "count    616.000000  550.000000  539.000000  616.000000  616.000000   \n",
      "mean   10702.003247   17.670909  219.445269   24.659091   95.668831   \n",
      "std     1957.762184   15.166798   24.933858    7.860409    8.804327   \n",
      "min     9082.000000    0.000000  160.000000    0.000000   81.000000   \n",
      "25%     9271.750000    6.250000  200.000000   23.000000   88.000000   \n",
      "50%     9478.500000   13.000000  220.000000   25.000000   95.500000   \n",
      "75%    13730.250000   25.000000  238.000000   29.000000  104.000000   \n",
      "max    14398.000000   99.000000  290.000000   41.000000  110.000000   \n",
      "\n",
      "       GamesPlayed     Fg2PtAtt   Fg2PtMade    Fg3PtAtt   Fg3PtMade  \\\n",
      "count   616.000000   616.000000  616.000000  616.000000  616.000000   \n",
      "mean     42.477273   227.800325  116.277597  115.810065   41.896104   \n",
      "std      30.112571   259.114070  135.665703  146.477362   55.771505   \n",
      "min       0.000000     0.000000    0.000000    0.000000    0.000000   \n",
      "25%      11.000000    13.000000    6.000000    2.000000    0.000000   \n",
      "50%      51.000000   132.000000   65.500000   45.000000   14.000000   \n",
      "75%      72.000000   367.000000  184.500000  195.000000   66.000000   \n",
      "max      82.000000  1361.000000  725.000000  722.000000  265.000000   \n",
      "\n",
      "            FtAtt      FtMade  \n",
      "count  616.000000  616.000000  \n",
      "mean    86.581169   66.400974  \n",
      "std    111.568448   88.321824  \n",
      "min      0.000000    0.000000  \n",
      "25%      4.750000    2.750000  \n",
      "50%     46.000000   34.500000  \n",
      "75%    128.000000   99.250000  \n",
      "max    727.000000  624.000000  \n",
      "          Player_ID  Jersey_Num      Weight         Age     Team_ID  \\\n",
      "count    616.000000  550.000000  539.000000  616.000000  616.000000   \n",
      "mean   10702.003247   17.670909  219.445269   24.659091   95.668831   \n",
      "std     1957.762184   15.166798   24.933858    7.860409    8.804327   \n",
      "min     9082.000000    0.000000  160.000000    0.000000   81.000000   \n",
      "25%     9271.750000    6.250000  200.000000   23.000000   88.000000   \n",
      "50%     9478.500000   13.000000  220.000000   25.000000   95.500000   \n",
      "75%    13730.250000   25.000000  238.000000   29.000000  104.000000   \n",
      "max    14398.000000   99.000000  290.000000   41.000000  110.000000   \n",
      "\n",
      "       GamesPlayed     Fg2PtAtt   Fg2PtMade    Fg3PtAtt   Fg3PtMade  \\\n",
      "count   616.000000   616.000000  616.000000  616.000000  616.000000   \n",
      "mean     42.477273   227.800325  116.277597  115.810065   41.896104   \n",
      "std      30.112571   259.114070  135.665703  146.477362   55.771505   \n",
      "min       0.000000     0.000000    0.000000    0.000000    0.000000   \n",
      "25%      11.000000    13.000000    6.000000    2.000000    0.000000   \n",
      "50%      51.000000   132.000000   65.500000   45.000000   14.000000   \n",
      "75%      72.000000   367.000000  184.500000  195.000000   66.000000   \n",
      "max      82.000000  1361.000000  725.000000  722.000000  265.000000   \n",
      "\n",
      "            FtAtt      FtMade  \n",
      "count  616.000000  616.000000  \n",
      "mean    86.581169   66.400974  \n",
      "std    111.568448   88.321824  \n",
      "min      0.000000    0.000000  \n",
      "25%      4.750000    2.750000  \n",
      "50%     46.000000   34.500000  \n",
      "75%    128.000000   99.250000  \n",
      "max    727.000000  624.000000  \n"
     ]
    }
   ],
   "source": [
    "print(df.describe())\n",
    "print(pd.DataFrame.describe(df))"
   ]
  },
  {
   "cell_type": "code",
   "execution_count": 2,
   "metadata": {},
   "outputs": [
    {
     "ename": "NameError",
     "evalue": "name 'pd' is not defined",
     "output_type": "error",
     "traceback": [
      "\u001b[0;31m---------------------------------------------------------------------------\u001b[0m",
      "\u001b[0;31mNameError\u001b[0m                                 Traceback (most recent call last)",
      "\u001b[0;32m<ipython-input-2-b7faa5a6e1be>\u001b[0m in \u001b[0;36m<module>\u001b[0;34m()\u001b[0m\n\u001b[0;32m----> 1\u001b[0;31m \u001b[0mdf\u001b[0m \u001b[0;34m=\u001b[0m \u001b[0mpd\u001b[0m\u001b[0;34m.\u001b[0m\u001b[0mread_csv\u001b[0m\u001b[0;34m(\u001b[0m\u001b[0;34m\"nba_player_stats_2017_18.csv\"\u001b[0m\u001b[0;34m)\u001b[0m\u001b[0;34m\u001b[0m\u001b[0m\n\u001b[0m\u001b[1;32m      2\u001b[0m \u001b[0mfg\u001b[0m \u001b[0;34m=\u001b[0m \u001b[0mdf\u001b[0m\u001b[0;34m[\u001b[0m\u001b[0;34m'Fg2ptMade'\u001b[0m\u001b[0;34m]\u001b[0m\u001b[0;34m\u001b[0m\u001b[0m\n\u001b[1;32m      3\u001b[0m \u001b[0mprint\u001b[0m\u001b[0;34m(\u001b[0m\u001b[0mfg\u001b[0m\u001b[0;34m[\u001b[0m\u001b[0;34m:\u001b[0m\u001b[0;36m15\u001b[0m\u001b[0;34m]\u001b[0m\u001b[0;34m)\u001b[0m\u001b[0;34m\u001b[0m\u001b[0m\n\u001b[1;32m      4\u001b[0m \u001b[0mx\u001b[0m\u001b[0;34m=\u001b[0m\u001b[0mnp\u001b[0m\u001b[0;34m.\u001b[0m\u001b[0mmin\u001b[0m\u001b[0;34m(\u001b[0m\u001b[0mfg\u001b[0m\u001b[0;34m)\u001b[0m\u001b[0;34m\u001b[0m\u001b[0m\n\u001b[1;32m      5\u001b[0m \u001b[0mprint\u001b[0m\u001b[0;34m(\u001b[0m\u001b[0;34m'max='\u001b[0m\u001b[0;34m,\u001b[0m \u001b[0mx\u001b[0m\u001b[0;34m)\u001b[0m\u001b[0;34m\u001b[0m\u001b[0m\n",
      "\u001b[0;31mNameError\u001b[0m: name 'pd' is not defined"
     ]
    }
   ],
   "source": [
    "df = pd.read_csv(\"nba_player_stats_2017_18.csv\")\n",
    "fg = df['Fg2ptMade']\n",
    "print(fg[:15])\n",
    "x=np.min(fg)\n",
    "print('max=', x)\n",
    "y=np.min(fg)\n",
    "print('min=', y)\n",
    "z=np.mean(fg)\n",
    "print('mean=', z)"
   ]
  },
  {
   "cell_type": "code",
   "execution_count": null,
   "metadata": {},
   "outputs": [],
   "source": []
  },
  {
   "cell_type": "code",
   "execution_count": null,
   "metadata": {},
   "outputs": [],
   "source": []
  },
  {
   "cell_type": "markdown",
   "metadata": {},
   "source": [
    "6*6 "
   ]
  },
  {
   "cell_type": "code",
   "execution_count": 46,
   "metadata": {},
   "outputs": [
    {
     "name": "stdout",
     "output_type": "stream",
     "text": [
      "0     190.0\n",
      "1     240.0\n",
      "2     255.0\n",
      "3     255.0\n",
      "4     210.0\n",
      "5     248.0\n",
      "6     253.0\n",
      "7     260.0\n",
      "8     234.0\n",
      "9     200.0\n",
      "10    213.0\n",
      "11    220.0\n",
      "12    220.0\n",
      "13    230.0\n",
      "14    230.0\n",
      "Name: Weight, dtype: float64\n",
      "mean= 219.44526901669758\n",
      "standrd deviation= 24.910717583614463\n",
      "variance= 620.5438505305989\n",
      "0      8.0\n",
      "1     13.0\n",
      "2     12.0\n",
      "3     13.0\n",
      "4      4.0\n",
      "5     42.0\n",
      "6     45.0\n",
      "7     12.0\n",
      "8     31.0\n",
      "9     45.0\n",
      "10    24.0\n",
      "11     8.0\n",
      "12    26.0\n",
      "13     1.0\n",
      "14     1.0\n",
      "Name: Jersey_Num, dtype: float64\n",
      "mean= 17.670909090909092\n",
      "standrd deviation= 15.153003575376466\n",
      "variance= 229.61351735537195\n",
      "0     24\n",
      "1     27\n",
      "2     24\n",
      "3     20\n",
      "4     32\n",
      "5     30\n",
      "6     29\n",
      "7     32\n",
      "8     20\n",
      "9     25\n",
      "10    36\n",
      "11    27\n",
      "12    35\n",
      "13    24\n",
      "14    24\n",
      "Name: Age, dtype: int64\n",
      "mean= 24.65909090909091\n",
      "standrd deviation= 7.854026295072076\n",
      "variance= 61.68572904368361\n"
     ]
    }
   ],
   "source": [
    "wt = df['Weight']\n",
    "print(wt[:15])\n",
    "x=np.mean(wt)\n",
    "print('mean=', x)\n",
    "y=np.std(wt)\n",
    "print('standrd deviation=', y)\n",
    "z=np.var(wt)\n",
    "print('variance=',z)\n",
    "\n",
    "Jer_Num = df['Jersey_Num']\n",
    "print(Jer_Num[:15])\n",
    "x=np.mean(Jer_Num)\n",
    "print('mean=', x)\n",
    "y=np.std(Jer_Num)\n",
    "print('standrd deviation=', y)\n",
    "z=np.var(Jer_Num)\n",
    "print('variance=',z)\n",
    "\n",
    "Age = df['Age']\n",
    "print(Age[:15])\n",
    "x=np.mean(Age)\n",
    "print('mean=', x)\n",
    "y=np.std(Age)\n",
    "print('standrd deviation=', y)\n",
    "z=np.var(Age)\n",
    "print('variance=',z)"
   ]
  },
  {
   "cell_type": "code",
   "execution_count": 51,
   "metadata": {},
   "outputs": [
    {
     "name": "stdout",
     "output_type": "stream",
     "text": [
      "hello world\n"
     ]
    }
   ],
   "source": [
    "import matplotlib as mp1\n",
    "import matplotlib.pyplot as plt\n",
    "\n",
    "\n",
    "hello = \"hello world\"\n",
    "print(hello)"
   ]
  },
  {
   "cell_type": "code",
   "execution_count": 54,
   "metadata": {},
   "outputs": [
    {
     "data": {
      "image/png": "[encoded data removed]",
      "text/plain": [
       "<Figure size 432x288 with 1 Axes>"
      ]
     },
     "metadata": {},
     "output_type": "display_data"
    }
   ],
   "source": [
    "x = np.linspace(0, 10, 100)\n",
    "fig1 = plt.figure()\n",
    "plt.plot(x, np.sin(x))\n",
    "plt.plot(x, np.cos(x))\n",
    "plt.show()\n",
    "fig1.savefig(\"myfig.png\")"
   ]
  },
  {
   "cell_type": "code",
   "execution_count": 55,
   "metadata": {},
   "outputs": [
    {
     "data": {
      "text/plain": [
       "Text(0,0.5,'y')"
      ]
     },
     "execution_count": 55,
     "metadata": {},
     "output_type": "execute_result"
    },
    {
     "data": {
      "image/png": "[encoded data removed]",
      "text/plain": [
       "<Figure size 432x288 with 1 Axes>"
      ]
     },
     "metadata": {},
     "output_type": "display_data"
    }
   ],
   "source": [
    "fig2 = plt.figure()\n",
    "plt.plot(x, np.sin(x))\n",
    "plt.title(\"A Sine Curve\")\n",
    "plt.xlabel(\"x\")\n",
    "plt.ylabel(\"y\")"
   ]
  },
  {
   "cell_type": "code",
   "execution_count": 58,
   "metadata": {},
   "outputs": [
    {
     "data": {
      "image/png": "[encoded data removed]",
      "text/plain": [
       "<Figure size 432x288 with 1 Axes>"
      ]
     },
     "metadata": {},
     "output_type": "display_data"
    }
   ],
   "source": [
    "data = np.random.randint(1000)\n",
    "fig3 = plt.figure()\n",
    "plt.title(\"Histogram\")\n",
    "plt.xlabel(\"x\")\n",
    "plt.ylabel(\"frequency\")\n",
    "plt.hist(data)\n",
    "plt.hist(data, bins=30)\n",
    "fig3.savefig(\"myHist.png\")"
   ]
  },
  {
   "cell_type": "code",
   "execution_count": 60,
   "metadata": {},
   "outputs": [
    {
     "data": {
      "image/png": "[encoded data removed]",
      "text/plain": [
       "<Figure size 432x288 with 1 Axes>"
      ]
     },
     "metadata": {},
     "output_type": "display_data"
    }
   ],
   "source": [
    "norm = np.random.standard_normal(1000)\n",
    "fig4 = plt.figure()\n",
    "plt.hist(norm, bins=50)\n",
    "plt.title(\"Standard Normal Distribution\")\n",
    "fig4.savefig('normal.png')"
   ]
  },
  {
   "cell_type": "code",
   "execution_count": null,
   "metadata": {},
   "outputs": [],
   "source": []
  }
 ],
 "metadata": {
  "kernelspec": {
   "display_name": "Python 3",
   "language": "python",
   "name": "python3"
  },
  "language_info": {
   "codemirror_mode": {
    "name": "ipython",
    "version": 3
   },
   "file_extension": ".py",
   "mimetype": "text/x-python",
   "name": "python",
   "nbconvert_exporter": "python",
   "pygments_lexer": "ipython3",
   "version": "3.6.5"
  }
 },
 "nbformat": 4,
 "nbformat_minor": 2
}
